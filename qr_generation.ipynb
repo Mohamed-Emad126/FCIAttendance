{
 "cells": [
  {
   "cell_type": "code",
   "outputs": [],
   "source": [
    "import hashlib\n",
    "from base64 import b64encode, b64decode\n",
    "import pandas as pd\n",
    "import qrcode as qr\n",
    "from Crypto.Cipher import AES\n",
    "from Crypto.Util.Padding import pad, unpad\n",
    "\n",
    "\n",
    "def encrypt_with_AES_CBC(secretKey, data, iv):\n",
    "    try:\n",
    "        keyBytes = hashlib.sha256(secretKey.encode('utf-8')).digest()\n",
    "        cipher = AES.new(keyBytes, AES.MODE_CBC, iv.encode('utf-8'))\n",
    "        cipherText = cipher.encrypt(pad(data.encode('utf-8'), AES.block_size))\n",
    "        return b64encode(cipherText).decode('utf-8')\n",
    "    except Exception as e:\n",
    "        print(str(e))\n",
    "        return None\n",
    "\n",
    "\n",
    "def decrypt_with_AES_CBC(secretKey, data, iv):\n",
    "    try:\n",
    "        keyBytes = hashlib.sha256(secretKey.encode('utf-8')).digest()\n",
    "        cipher = AES.new(keyBytes, AES.MODE_CBC, iv.encode('utf-8'))\n",
    "        plainText = unpad(cipher.decrypt(b64decode(data.encode('utf-8'))), AES.block_size)\n",
    "        return plainText.decode('utf-8').strip()\n",
    "    except Exception as e:\n",
    "        print(str(e))\n",
    "        return None"
   ],
   "metadata": {
    "collapsed": false,
    "ExecuteTime": {
     "end_time": "2024-03-19T11:08:05.865593Z",
     "start_time": "2024-03-19T11:08:04.272779Z"
    }
   },
   "id": "c71ed7235ed2f94f",
   "execution_count": 1
  },
  {
   "cell_type": "code",
   "outputs": [],
   "source": [
    "file_path = r\"D:\\TA Materials\\الفرق 2024\\3.xlsx\"\n",
    "sheet_name = \"Sheet1\"\n",
    "students = pd.read_excel(file_path, header=None, sheet_name=sheet_name)"
   ],
   "metadata": {
    "collapsed": false,
    "ExecuteTime": {
     "end_time": "2024-03-19T11:09:00.551396Z",
     "start_time": "2024-03-19T11:09:00.514399Z"
    }
   },
   "id": "d4b66dde257888a6",
   "execution_count": 7
  },
  {
   "cell_type": "code",
   "outputs": [
    {
     "data": {
      "text/plain": "                                          0     1\n0  إبراهيم محمود أحمد عادل عبدالبديع الشحات  1 CS\n1               أحمد أشرف أحمد العربي محمود  1 CS\n2       أحمد أيمن فتحي محمد إبراهيم العيسوي  1 CS\n3                 أحمد إيهاب صاحي حسين مرسي  1 CS\n4           أحمد السيد عبدالله السيد كيلاني  1 CS",
      "text/html": "<div>\n<style scoped>\n    .dataframe tbody tr th:only-of-type {\n        vertical-align: middle;\n    }\n\n    .dataframe tbody tr th {\n        vertical-align: top;\n    }\n\n    .dataframe thead th {\n        text-align: right;\n    }\n</style>\n<table border=\"1\" class=\"dataframe\">\n  <thead>\n    <tr style=\"text-align: right;\">\n      <th></th>\n      <th>0</th>\n      <th>1</th>\n    </tr>\n  </thead>\n  <tbody>\n    <tr>\n      <th>0</th>\n      <td>إبراهيم محمود أحمد عادل عبدالبديع الشحات</td>\n      <td>1 CS</td>\n    </tr>\n    <tr>\n      <th>1</th>\n      <td>أحمد أشرف أحمد العربي محمود</td>\n      <td>1 CS</td>\n    </tr>\n    <tr>\n      <th>2</th>\n      <td>أحمد أيمن فتحي محمد إبراهيم العيسوي</td>\n      <td>1 CS</td>\n    </tr>\n    <tr>\n      <th>3</th>\n      <td>أحمد إيهاب صاحي حسين مرسي</td>\n      <td>1 CS</td>\n    </tr>\n    <tr>\n      <th>4</th>\n      <td>أحمد السيد عبدالله السيد كيلاني</td>\n      <td>1 CS</td>\n    </tr>\n  </tbody>\n</table>\n</div>"
     },
     "execution_count": 8,
     "metadata": {},
     "output_type": "execute_result"
    }
   ],
   "source": [
    "students.head()"
   ],
   "metadata": {
    "collapsed": false,
    "ExecuteTime": {
     "end_time": "2024-03-19T11:09:01.140400Z",
     "start_time": "2024-03-19T11:09:01.135398Z"
    }
   },
   "id": "963f059e3f60544e",
   "execution_count": 8
  },
  {
   "cell_type": "code",
   "outputs": [
    {
     "data": {
      "text/plain": "                                0    1\n742    محمود أحمد السيد عبدالعزيز  NaN\n743          احمد نصر محمد سليمان  NaN\n744      محمد احمد جوده عبدالرافع  NaN\n745        رنا ممدوح الدسوقي مرسي  NaN\n746  عبير خالد عبد الجواد ابراهيم  NaN",
      "text/html": "<div>\n<style scoped>\n    .dataframe tbody tr th:only-of-type {\n        vertical-align: middle;\n    }\n\n    .dataframe tbody tr th {\n        vertical-align: top;\n    }\n\n    .dataframe thead th {\n        text-align: right;\n    }\n</style>\n<table border=\"1\" class=\"dataframe\">\n  <thead>\n    <tr style=\"text-align: right;\">\n      <th></th>\n      <th>0</th>\n      <th>1</th>\n    </tr>\n  </thead>\n  <tbody>\n    <tr>\n      <th>742</th>\n      <td>محمود أحمد السيد عبدالعزيز</td>\n      <td>NaN</td>\n    </tr>\n    <tr>\n      <th>743</th>\n      <td>احمد نصر محمد سليمان</td>\n      <td>NaN</td>\n    </tr>\n    <tr>\n      <th>744</th>\n      <td>محمد احمد جوده عبدالرافع</td>\n      <td>NaN</td>\n    </tr>\n    <tr>\n      <th>745</th>\n      <td>رنا ممدوح الدسوقي مرسي</td>\n      <td>NaN</td>\n    </tr>\n    <tr>\n      <th>746</th>\n      <td>عبير خالد عبد الجواد ابراهيم</td>\n      <td>NaN</td>\n    </tr>\n  </tbody>\n</table>\n</div>"
     },
     "execution_count": 9,
     "metadata": {},
     "output_type": "execute_result"
    }
   ],
   "source": [
    "students.tail()"
   ],
   "metadata": {
    "collapsed": false,
    "ExecuteTime": {
     "end_time": "2024-03-19T11:09:02.661400Z",
     "start_time": "2024-03-19T11:09:02.655401Z"
    }
   },
   "id": "fc8278b132696f16",
   "execution_count": 9
  },
  {
   "cell_type": "markdown",
   "source": [
    "### Add new student to the dataframe"
   ],
   "metadata": {
    "collapsed": false
   },
   "id": "bc9999b4d6868dc"
  },
  {
   "cell_type": "code",
   "outputs": [],
   "source": [
    "# add new student name to the dataframe\n",
    "def add_student(name):\n",
    "    new_data = {0: name}\n",
    "    return students.append(new_data, ignore_index=True)"
   ],
   "metadata": {
    "collapsed": false,
    "ExecuteTime": {
     "end_time": "2024-03-19T11:09:05.650398Z",
     "start_time": "2024-03-19T11:09:05.647400Z"
    }
   },
   "id": "ce1e4e7f9b689077",
   "execution_count": 10
  },
  {
   "cell_type": "code",
   "outputs": [],
   "source": [
    "students = add_student(\"امير مأمون عبد الرحمن امين\")"
   ],
   "metadata": {
    "collapsed": false
   },
   "id": "1b863c8fd07161b8",
   "execution_count": 11
  },
  {
   "cell_type": "code",
   "outputs": [
    {
     "data": {
      "text/plain": "                                0    1\n743          احمد نصر محمد سليمان  NaN\n744      محمد احمد جوده عبدالرافع  NaN\n745        رنا ممدوح الدسوقي مرسي  NaN\n746  عبير خالد عبد الجواد ابراهيم  NaN\n747    امير مأمون عبد الرحمن امين  NaN",
      "text/html": "<div>\n<style scoped>\n    .dataframe tbody tr th:only-of-type {\n        vertical-align: middle;\n    }\n\n    .dataframe tbody tr th {\n        vertical-align: top;\n    }\n\n    .dataframe thead th {\n        text-align: right;\n    }\n</style>\n<table border=\"1\" class=\"dataframe\">\n  <thead>\n    <tr style=\"text-align: right;\">\n      <th></th>\n      <th>0</th>\n      <th>1</th>\n    </tr>\n  </thead>\n  <tbody>\n    <tr>\n      <th>743</th>\n      <td>احمد نصر محمد سليمان</td>\n      <td>NaN</td>\n    </tr>\n    <tr>\n      <th>744</th>\n      <td>محمد احمد جوده عبدالرافع</td>\n      <td>NaN</td>\n    </tr>\n    <tr>\n      <th>745</th>\n      <td>رنا ممدوح الدسوقي مرسي</td>\n      <td>NaN</td>\n    </tr>\n    <tr>\n      <th>746</th>\n      <td>عبير خالد عبد الجواد ابراهيم</td>\n      <td>NaN</td>\n    </tr>\n    <tr>\n      <th>747</th>\n      <td>امير مأمون عبد الرحمن امين</td>\n      <td>NaN</td>\n    </tr>\n  </tbody>\n</table>\n</div>"
     },
     "execution_count": 12,
     "metadata": {},
     "output_type": "execute_result"
    }
   ],
   "source": [
    "students.tail()"
   ],
   "metadata": {
    "collapsed": false,
    "ExecuteTime": {
     "end_time": "2024-03-19T11:09:53.879481Z",
     "start_time": "2024-03-19T11:09:53.874479Z"
    }
   },
   "id": "5fe588d0c51ecfa3",
   "execution_count": 12
  },
  {
   "cell_type": "markdown",
   "source": [
    "### Create Qr code for the new students"
   ],
   "metadata": {
    "collapsed": false
   },
   "id": "127860fa4869493f"
  },
  {
   "cell_type": "code",
   "outputs": [],
   "source": [
    "# create a qr code of the name of the student and his roll number and save it in the folder\n",
    "for i in range(students.shape[0]):\n",
    "    qr_data = str(students.iloc[i, 0]) + \"\\n\" + str(i + 2)\n",
    "    secretKey = \"Secretkey\"  # replace with your secret key\n",
    "    iv = \"##########\"  # replace with your iv\n",
    "    qr_data = encrypt_with_AES_CBC(secretKey, qr_data, iv)\n",
    "    qr.make(qr_data).save(r\"D:\\QR Codes\\QR\" + str(i) + \".png\")\n",
    "    # qr.make(qr_data).save(r\"D:\\QR Codes\\\\\" + str(students.iloc[i,0]) + str(students.iloc[i,1])+\".png\")\n"
   ],
   "metadata": {
    "collapsed": false,
    "ExecuteTime": {
     "end_time": "2024-02-25T21:21:47.662637600Z",
     "start_time": "2024-02-25T21:21:36.089635800Z"
    }
   },
   "id": "27cf128d8f034124",
   "execution_count": 23
  },
  {
   "cell_type": "code",
   "outputs": [
    {
     "data": {
      "text/plain": "                                          0     1\n0  إبراهيم محمود أحمد عادل عبدالبديع الشحات  1 CS\n1               أحمد أشرف أحمد العربي محمود  1 CS\n2       أحمد أيمن فتحي محمد إبراهيم العيسوي  1 CS\n3                 أحمد إيهاب صاحي حسين مرسي  1 CS\n4           أحمد السيد عبدالله السيد كيلاني  1 CS",
      "text/html": "<div>\n<style scoped>\n    .dataframe tbody tr th:only-of-type {\n        vertical-align: middle;\n    }\n\n    .dataframe tbody tr th {\n        vertical-align: top;\n    }\n\n    .dataframe thead th {\n        text-align: right;\n    }\n</style>\n<table border=\"1\" class=\"dataframe\">\n  <thead>\n    <tr style=\"text-align: right;\">\n      <th></th>\n      <th>0</th>\n      <th>1</th>\n    </tr>\n  </thead>\n  <tbody>\n    <tr>\n      <th>0</th>\n      <td>إبراهيم محمود أحمد عادل عبدالبديع الشحات</td>\n      <td>1 CS</td>\n    </tr>\n    <tr>\n      <th>1</th>\n      <td>أحمد أشرف أحمد العربي محمود</td>\n      <td>1 CS</td>\n    </tr>\n    <tr>\n      <th>2</th>\n      <td>أحمد أيمن فتحي محمد إبراهيم العيسوي</td>\n      <td>1 CS</td>\n    </tr>\n    <tr>\n      <th>3</th>\n      <td>أحمد إيهاب صاحي حسين مرسي</td>\n      <td>1 CS</td>\n    </tr>\n    <tr>\n      <th>4</th>\n      <td>أحمد السيد عبدالله السيد كيلاني</td>\n      <td>1 CS</td>\n    </tr>\n  </tbody>\n</table>\n</div>"
     },
     "execution_count": 24,
     "metadata": {},
     "output_type": "execute_result"
    }
   ],
   "source": [
    "# add qr code to the dataframe \n",
    "students.head()"
   ],
   "metadata": {
    "collapsed": false,
    "ExecuteTime": {
     "end_time": "2024-02-25T21:21:51.752638600Z",
     "start_time": "2024-02-25T21:21:51.747635900Z"
    }
   },
   "id": "43650c49a130a65b",
   "execution_count": 24
  },
  {
   "cell_type": "code",
   "outputs": [],
   "source": [
    "writer = pd.ExcelWriter('Students.xlsx', engine='xlsxwriter')\n",
    "students.to_excel(writer, sheet_name='Sheet1', index=False)"
   ],
   "metadata": {
    "collapsed": false,
    "ExecuteTime": {
     "end_time": "2024-02-25T21:21:53.602634Z",
     "start_time": "2024-02-25T21:21:53.556636300Z"
    }
   },
   "id": "eb1e7ba35b43c564",
   "execution_count": 25
  },
  {
   "cell_type": "code",
   "outputs": [],
   "source": [
    "from PIL import Image\n",
    "\n",
    "workbook = writer.book\n",
    "my_format = workbook.add_format()\n",
    "my_format.set_align('vcenter')\n",
    "\n",
    "worksheet = writer.sheets['Sheet1']\n",
    "worksheet.set_default_row(44)\n",
    "\n",
    "default_column_width = 8.43\n",
    "\n",
    "for i in range(students.shape[0]):\n",
    "    worksheet.write('A' + str(i + 2), \"ـ\" + students.iloc[i, 1] + \":-\" + students.iloc[i, 0], my_format)\n",
    "    image_path = r\"D:\\QR Codes\\QR\" + str(i) + \".png\"\n",
    "    # Get the dimensions of the image\n",
    "    with Image.open(image_path) as img:\n",
    "        image_width, image_height = img.size\n",
    "\n",
    "    # Calculate the scale factors\n",
    "    x_scale = 55 / image_width\n",
    "    y_scale = 55 / image_height\n",
    "\n",
    "    # Calculate the scaled image width and height\n",
    "    scaled_image_width = image_width * x_scale\n",
    "    scaled_image_height = image_height * y_scale\n",
    "\n",
    "    # Calculate the offsets\n",
    "    x_offset = int((60 - scaled_image_width) / 2)\n",
    "    y_offset = int((60 - scaled_image_height) / 2)\n",
    "\n",
    "    # Insert the image\n",
    "    worksheet.set_column('B:B', None, my_format)\n",
    "    worksheet.insert_image('B' + str(i + 2), r\"D:\\QR Codes\\QR\" + str(i) + \".png\",\n",
    "                           {'x_scale': x_scale, 'y_scale': y_scale, 'x_offset': x_offset, 'y_offset': y_offset})\n"
   ],
   "metadata": {
    "collapsed": false,
    "ExecuteTime": {
     "end_time": "2024-02-19T21:14:18.336460600Z",
     "start_time": "2024-02-19T21:14:15.922461400Z"
    }
   },
   "id": "529d686375a5d491",
   "execution_count": 7
  },
  {
   "cell_type": "code",
   "outputs": [],
   "source": [
    "writer.save()"
   ],
   "metadata": {
    "collapsed": false,
    "ExecuteTime": {
     "end_time": "2024-02-19T21:14:21.751459600Z",
     "start_time": "2024-02-19T21:14:19.038461Z"
    }
   },
   "id": "eb085e6ff9c1beb9",
   "execution_count": 8
  },
  {
   "cell_type": "markdown",
   "source": [
    "## Output"
   ],
   "metadata": {
    "collapsed": false
   },
   "id": "1f7de5f6b2e3ab69"
  },
  {
   "cell_type": "markdown",
   "source": [
    "<img src=\"img.png\"/>"
   ],
   "metadata": {
    "collapsed": false
   },
   "id": "ba5db83effe3ec5f"
  }
 ],
 "metadata": {
  "kernelspec": {
   "display_name": "Python 3",
   "language": "python",
   "name": "python3"
  },
  "language_info": {
   "codemirror_mode": {
    "name": "ipython",
    "version": 2
   },
   "file_extension": ".py",
   "mimetype": "text/x-python",
   "name": "python",
   "nbconvert_exporter": "python",
   "pygments_lexer": "ipython2",
   "version": "2.7.6"
  }
 },
 "nbformat": 4,
 "nbformat_minor": 5
}
