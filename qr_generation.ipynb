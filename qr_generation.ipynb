{
 "cells": [
  {
   "cell_type": "code",
   "execution_count": 1,
   "id": "c71ed7235ed2f94f",
   "metadata": {
    "ExecuteTime": {
     "end_time": "2024-03-02T18:07:48.899565Z",
     "start_time": "2024-03-02T18:07:47.419567Z"
    }
   },
   "outputs": [],
   "source": [
    "import hashlib\n",
    "from base64 import b64encode, b64decode\n",
    "import pandas as pd\n",
    "import qrcode as qr\n",
    "from Crypto.Cipher import AES\n",
    "from Crypto.Util.Padding import pad, unpad\n",
    "\n",
    "\n",
    "def encrypt_with_AES_CBC(secretKey, data, iv):\n",
    "    try:\n",
    "        keyBytes = hashlib.sha256(secretKey.encode('utf-8')).digest()\n",
    "        cipher = AES.new(keyBytes, AES.MODE_CBC, iv.encode('utf-8'))\n",
    "        cipherText = cipher.encrypt(pad(data.encode('utf-8'), AES.block_size))\n",
    "        return b64encode(cipherText).decode('utf-8')\n",
    "    except Exception as e:\n",
    "        print(str(e))\n",
    "        return None\n",
    "\n",
    "\n",
    "def decrypt_with_AES_CBC(secretKey, data, iv):\n",
    "    try:\n",
    "        keyBytes = hashlib.sha256(secretKey.encode('utf-8')).digest()\n",
    "        cipher = AES.new(keyBytes, AES.MODE_CBC, iv.encode('utf-8'))\n",
    "        plainText = unpad(cipher.decrypt(b64decode(data.encode('utf-8'))), AES.block_size)\n",
    "        return plainText.decode('utf-8').strip()\n",
    "    except Exception as e:\n",
    "        print(str(e))\n",
    "        return None"
   ]
  },
  {
   "cell_type": "code",
   "execution_count": 2,
   "id": "d4b66dde257888a6",
   "metadata": {
    "ExecuteTime": {
     "end_time": "2024-03-02T18:07:53.155543Z",
     "start_time": "2024-03-02T18:07:52.961547Z"
    }
   },
   "outputs": [],
   "source": [
    "file_path = r\"D:\\TA Materials\\الفرق 2024\\All.xlsx\"\n",
    "sheet_name = \"Sheet1\"\n",
    "students = pd.read_excel(file_path, header=None, sheet_name=sheet_name)"
   ]
  },
  {
   "cell_type": "code",
   "execution_count": 3,
   "id": "963f059e3f60544e",
   "metadata": {
    "ExecuteTime": {
     "end_time": "2024-03-02T18:07:53.877556Z",
     "start_time": "2024-03-02T18:07:53.867557Z"
    }
   },
   "outputs": [
    {
     "data": {
      "text/html": [
       "<div>\n",
       "<style scoped>\n",
       "    .dataframe tbody tr th:only-of-type {\n",
       "        vertical-align: middle;\n",
       "    }\n",
       "\n",
       "    .dataframe tbody tr th {\n",
       "        vertical-align: top;\n",
       "    }\n",
       "\n",
       "    .dataframe thead th {\n",
       "        text-align: right;\n",
       "    }\n",
       "</style>\n",
       "<table border=\"1\" class=\"dataframe\">\n",
       "  <thead>\n",
       "    <tr style=\"text-align: right;\">\n",
       "      <th></th>\n",
       "      <th>0</th>\n",
       "      <th>1</th>\n",
       "      <th>2</th>\n",
       "    </tr>\n",
       "  </thead>\n",
       "  <tbody>\n",
       "    <tr>\n",
       "      <th>0</th>\n",
       "      <td>ابراهيم احمد محمود محمد حسين</td>\n",
       "      <td>مستجد</td>\n",
       "      <td>الفرقة الاولى - عام</td>\n",
       "    </tr>\n",
       "    <tr>\n",
       "      <th>1</th>\n",
       "      <td>ابراهيم حسين عبدالعاطي احمد</td>\n",
       "      <td>مستجد</td>\n",
       "      <td>الفرقة الاولى - عام</td>\n",
       "    </tr>\n",
       "    <tr>\n",
       "      <th>2</th>\n",
       "      <td>ابراهيم دسوقي حجازي عبدالمعطي</td>\n",
       "      <td>باقي</td>\n",
       "      <td>الفرقة الاولى - عام</td>\n",
       "    </tr>\n",
       "    <tr>\n",
       "      <th>3</th>\n",
       "      <td>ابراهيم رضا ابراهيم عبدالفتاح</td>\n",
       "      <td>باقي</td>\n",
       "      <td>الفرقة الاولى - عام</td>\n",
       "    </tr>\n",
       "    <tr>\n",
       "      <th>4</th>\n",
       "      <td>ابراهيم عاطف السيد عبدالرحمن</td>\n",
       "      <td>مستجد</td>\n",
       "      <td>الفرقة الاولى - عام</td>\n",
       "    </tr>\n",
       "  </tbody>\n",
       "</table>\n",
       "</div>"
      ],
      "text/plain": [
       "                               0      1                    2\n",
       "0   ابراهيم احمد محمود محمد حسين  مستجد  الفرقة الاولى - عام\n",
       "1    ابراهيم حسين عبدالعاطي احمد  مستجد  الفرقة الاولى - عام\n",
       "2  ابراهيم دسوقي حجازي عبدالمعطي   باقي  الفرقة الاولى - عام\n",
       "3  ابراهيم رضا ابراهيم عبدالفتاح   باقي  الفرقة الاولى - عام\n",
       "4   ابراهيم عاطف السيد عبدالرحمن  مستجد  الفرقة الاولى - عام"
      ]
     },
     "execution_count": 3,
     "metadata": {},
     "output_type": "execute_result"
    }
   ],
   "source": [
    "students.head()"
   ]
  },
  {
   "cell_type": "code",
   "execution_count": 7,
   "id": "5ff4a9a940eda895",
   "metadata": {
    "ExecuteTime": {
     "end_time": "2024-03-02T18:10:48.492866Z",
     "start_time": "2024-03-02T18:10:48.431879Z"
    }
   },
   "outputs": [],
   "source": [
    "# create a folder for each group\n",
    "import os\n",
    "\n",
    "for group in students[2].unique():\n",
    "    os.makedirs(r\"D:\\QR Codes\\\\\" + str(group), exist_ok=True)"
   ]
  },
  {
   "cell_type": "markdown",
   "id": "bc9999b4d6868dc",
   "metadata": {},
   "source": [
    "|### Add new student to the dataframe"
   ]
  },
  {
   "cell_type": "markdown",
   "id": "127860fa4869493f",
   "metadata": {},
   "source": [
    "### Create Qr code for the new students"
   ]
  },
  {
   "cell_type": "code",
   "execution_count": 8,
   "id": "b45872823a029282",
   "metadata": {
    "ExecuteTime": {
     "end_time": "2024-03-02T18:11:30.369272Z",
     "start_time": "2024-03-02T18:11:30.363272Z"
    }
   },
   "outputs": [
    {
     "data": {
      "text/html": [
       "<div>\n",
       "<style scoped>\n",
       "    .dataframe tbody tr th:only-of-type {\n",
       "        vertical-align: middle;\n",
       "    }\n",
       "\n",
       "    .dataframe tbody tr th {\n",
       "        vertical-align: top;\n",
       "    }\n",
       "\n",
       "    .dataframe thead th {\n",
       "        text-align: right;\n",
       "    }\n",
       "</style>\n",
       "<table border=\"1\" class=\"dataframe\">\n",
       "  <thead>\n",
       "    <tr style=\"text-align: right;\">\n",
       "      <th></th>\n",
       "      <th>0</th>\n",
       "      <th>1</th>\n",
       "      <th>2</th>\n",
       "    </tr>\n",
       "  </thead>\n",
       "  <tbody>\n",
       "    <tr>\n",
       "      <th>0</th>\n",
       "      <td>ابراهيم احمد محمود محمد حسين</td>\n",
       "      <td>مستجد</td>\n",
       "      <td>الفرقة الاولى - عام</td>\n",
       "    </tr>\n",
       "    <tr>\n",
       "      <th>1</th>\n",
       "      <td>ابراهيم حسين عبدالعاطي احمد</td>\n",
       "      <td>مستجد</td>\n",
       "      <td>الفرقة الاولى - عام</td>\n",
       "    </tr>\n",
       "    <tr>\n",
       "      <th>2</th>\n",
       "      <td>ابراهيم دسوقي حجازي عبدالمعطي</td>\n",
       "      <td>باقي</td>\n",
       "      <td>الفرقة الاولى - عام</td>\n",
       "    </tr>\n",
       "    <tr>\n",
       "      <th>3</th>\n",
       "      <td>ابراهيم رضا ابراهيم عبدالفتاح</td>\n",
       "      <td>باقي</td>\n",
       "      <td>الفرقة الاولى - عام</td>\n",
       "    </tr>\n",
       "    <tr>\n",
       "      <th>4</th>\n",
       "      <td>ابراهيم عاطف السيد عبدالرحمن</td>\n",
       "      <td>مستجد</td>\n",
       "      <td>الفرقة الاولى - عام</td>\n",
       "    </tr>\n",
       "  </tbody>\n",
       "</table>\n",
       "</div>"
      ],
      "text/plain": [
       "                               0      1                    2\n",
       "0   ابراهيم احمد محمود محمد حسين  مستجد  الفرقة الاولى - عام\n",
       "1    ابراهيم حسين عبدالعاطي احمد  مستجد  الفرقة الاولى - عام\n",
       "2  ابراهيم دسوقي حجازي عبدالمعطي   باقي  الفرقة الاولى - عام\n",
       "3  ابراهيم رضا ابراهيم عبدالفتاح   باقي  الفرقة الاولى - عام\n",
       "4   ابراهيم عاطف السيد عبدالرحمن  مستجد  الفرقة الاولى - عام"
      ]
     },
     "execution_count": 8,
     "metadata": {},
     "output_type": "execute_result"
    }
   ],
   "source": [
    "students.head()"
   ]
  },
  {
   "cell_type": "code",
   "execution_count": 11,
   "id": "27cf128d8f034124",
   "metadata": {
    "ExecuteTime": {
     "end_time": "2024-03-02T18:19:41.989685Z",
     "start_time": "2024-03-02T18:17:59.442135Z"
    }
   },
   "outputs": [],
   "source": [
    "# create a qr code of the name of the student and his roll number and save it in the folder\n",
    "for i in range(students.shape[0]):\n",
    "    qr_data = str(students.iloc[i, 0]) + \"\\n\" + str(i + 2)\n",
    "    secretKey = \"Secret Key\"  # replace with your secret key\n",
    "    iv = \"##############\" # replace with your iv\n",
    "    qr_data = encrypt_with_AES_CBC(secretKey, qr_data, iv)\n",
    "    qr.make(qr_data).save(r\"D:\\QR Codes\\QR\" + str(i) + \".png\")\n",
    "    qr.make(qr_data).save(r\"D:\\QR Codes\\\\\"+f\"{students.iloc[i,2]}\\\\\" + str(students.iloc[i,0])+\".png\")\n",
    "\n",
    "    # students[\"QR Code\"] = \"QR\" + str(i) + \".png\""
   ]
  },
  {
   "cell_type": "code",
   "execution_count": 12,
   "id": "eb1e7ba35b43c564",
   "metadata": {
    "ExecuteTime": {
     "end_time": "2024-03-02T18:20:25.251257Z",
     "start_time": "2024-03-02T18:20:24.726259Z"
    }
   },
   "outputs": [],
   "source": [
    "writer = pd.ExcelWriter('all.xlsx', engine='xlsxwriter')\n",
    "students.to_excel(writer, sheet_name='Sheet1', index=False)"
   ]
  },
  {
   "cell_type": "code",
   "execution_count": 13,
   "id": "529d686375a5d491",
   "metadata": {
    "ExecuteTime": {
     "end_time": "2024-03-02T18:21:27.098225Z",
     "start_time": "2024-03-02T18:21:15.832190Z"
    }
   },
   "outputs": [],
   "source": [
    "from PIL import Image\n",
    "\n",
    "workbook = writer.book\n",
    "my_format = workbook.add_format()\n",
    "my_format.set_align('vcenter')\n",
    "\n",
    "worksheet = writer.sheets['Sheet1']\n",
    "worksheet.set_default_row(44)\n",
    "\n",
    "default_column_width = 8.43\n",
    "\n",
    "for i in range(students.shape[0]):\n",
    "    worksheet.write('B' + str(i + 2),students.iloc[i, 2], my_format)\n",
    "    worksheet.write('C' + str(i + 2),students.iloc[i, 0], my_format)\n",
    "    image_path = r\"D:\\QR Codes\\QR\" + str(i) + \".png\"\n",
    "    # Get the dimensions of the image\n",
    "    with Image.open(image_path) as img:\n",
    "        image_width, image_height = img.size\n",
    "\n",
    "    # Calculate the scale factors\n",
    "    x_scale = 55 / image_width\n",
    "    y_scale = 55 / image_height\n",
    "\n",
    "    # Calculate the scaled image width and height\n",
    "    scaled_image_width = image_width * x_scale\n",
    "    scaled_image_height = image_height * y_scale\n",
    "\n",
    "    # Calculate the offsets\n",
    "    x_offset = int((60 - scaled_image_width) / 2)\n",
    "    y_offset = int((60 - scaled_image_height) / 2)\n",
    "\n",
    "    # Insert the image\n",
    "    worksheet.set_column('A:A', None, my_format)\n",
    "    worksheet.insert_image('A' + str(i + 2), r\"D:\\QR Codes\\QR\" + str(i) + \".png\",\n",
    "                           {'x_scale': x_scale, 'y_scale': y_scale, 'x_offset': x_offset, 'y_offset': y_offset})\n"
   ]
  },
  {
   "cell_type": "code",
   "execution_count": 14,
   "id": "eb085e6ff9c1beb9",
   "metadata": {
    "ExecuteTime": {
     "end_time": "2024-03-02T18:21:51.244520Z",
     "start_time": "2024-03-02T18:21:29.167225Z"
    }
   },
   "outputs": [],
   "source": [
    "writer.save()"
   ]
  },
  {
   "cell_type": "markdown",
   "id": "b91a80c9f3e82221",
   "metadata": {},
   "source": [
    "<img src=\"img.png\"/>"
   ]
  }
 ],
 "metadata": {
  "kernelspec": {
   "display_name": "Python 3 (ipykernel)",
   "language": "python",
   "name": "python3"
  },
  "language_info": {
   "codemirror_mode": {
    "name": "ipython",
    "version": 3
   },
   "file_extension": ".py",
   "mimetype": "text/x-python",
   "name": "python",
   "nbconvert_exporter": "python",
   "pygments_lexer": "ipython3",
   "version": "3.9.7"
  }
 },
 "nbformat": 4,
 "nbformat_minor": 5
}
